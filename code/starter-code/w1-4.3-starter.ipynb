{
 "cells": [
  {
   "cell_type": "code",
   "execution_count": 25,
   "metadata": {
    "collapsed": false
   },
   "outputs": [
    {
     "name": "stdout",
     "output_type": "stream",
     "text": [
      "[1 2 3 4 5 5 5 5 6 7]\n"
     ]
    }
   ],
   "source": [
    "import numpy as np \n",
    "import math as ma\n",
    "\n",
    "# create an array\n",
    "a = np.array([1,2,3,4,5,5,5,5,6,7])\n",
    "print a\n"
   ]
  },
  {
   "cell_type": "code",
   "execution_count": 56,
   "metadata": {
    "collapsed": false
   },
   "outputs": [
    {
     "name": "stdout",
     "output_type": "stream",
     "text": [
      "3.01\n",
      "3.01\n"
     ]
    }
   ],
   "source": [
    "# Write a function that computes the variance\n",
    "variance = lambda array: sum([(i-np.mean(array))**2 for i in array]) / float(len(array))\n",
    "\n",
    "#def variance(array):\n",
    "    #return sum([(i-np.mean(array))**2 for i in array]) / float(len(array))\n",
    "    \n",
    "    #for i in array:\n",
    "        #new_array.append(((i - mean) ** 2))\n",
    "    \n",
    "    \n",
    "    \n",
    "    #return sum(new_array) / len(array)\n",
    "        \n",
    "print variance(a)\n",
    "print np.var(a)\n",
    "# Compare your function results with numpy results"
   ]
  },
  {
   "cell_type": "code",
   "execution_count": 57,
   "metadata": {
    "collapsed": false
   },
   "outputs": [
    {
     "name": "stdout",
     "output_type": "stream",
     "text": [
      "1.73493515729\n",
      "1.73493515729\n"
     ]
    }
   ],
   "source": [
    "# Write a function that computes the standard deviation and compare your function results with numpy equivalents.\n",
    "standard_deviation = lambda array: np.sqrt(variance(array))\n",
    "print standard_deviation(a)\n",
    "print np.std(a)"
   ]
  },
  {
   "cell_type": "code",
   "execution_count": null,
   "metadata": {
    "collapsed": false
   },
   "outputs": [],
   "source": []
  },
  {
   "cell_type": "code",
   "execution_count": null,
   "metadata": {
    "collapsed": true
   },
   "outputs": [],
   "source": []
  }
 ],
 "metadata": {
  "anaconda-cloud": {},
  "kernelspec": {
   "display_name": "Python [default]",
   "language": "python",
   "name": "python2"
  },
  "language_info": {
   "codemirror_mode": {
    "name": "ipython",
    "version": 2
   },
   "file_extension": ".py",
   "mimetype": "text/x-python",
   "name": "python",
   "nbconvert_exporter": "python",
   "pygments_lexer": "ipython2",
   "version": "2.7.12"
  }
 },
 "nbformat": 4,
 "nbformat_minor": 0
}
